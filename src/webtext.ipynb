{
 "cells": [
  {
   "attachments": {},
   "cell_type": "markdown",
   "metadata": {},
   "source": [
    "### Experimenting with news feeds to create data for the chat engine"
   ]
  },
  {
   "cell_type": "code",
   "execution_count": 49,
   "metadata": {},
   "outputs": [],
   "source": [
    "\n",
    "from urllib.request import urlopen\n",
    "from bs4 import BeautifulSoup\n",
    "import xmltodict, json\n",
    "import html\n",
    "from html.parser import HTMLParser\n"
   ]
  },
  {
   "cell_type": "code",
   "execution_count": null,
   "metadata": {},
   "outputs": [],
   "source": [
    "\n",
    "def readpage(url):\n",
    "    html = urlopen(url).read()\n",
    "    soup = BeautifulSoup(html, features=\"html.parser\")\n",
    "\n",
    "    # kill all script and style elements\n",
    "    for script in soup([\"script\", \"style\"]):\n",
    "        script.extract()    # rip it out\n",
    "\n",
    "    # get text\n",
    "    text = soup.get_text()\n",
    "\n",
    "    # break into lines and remove leading and trailing space on each\n",
    "    lines = (line.strip() for line in text.splitlines())\n",
    "    # break multi-headlines into a line each\n",
    "    chunks = (phrase.strip() for line in lines for phrase in line.split(\"  \"))\n",
    "    # drop blank lines\n",
    "    text = '\\n'.join(chunk for chunk in chunks if chunk)\n",
    "\n",
    "    return text\n",
    "\n",
    "def readfeed(url):\n",
    "\n",
    "    t = xmltodict.parse(urlopen(url).read())\n",
    "    return t\n",
    "\n",
    "def get_headlines():\n",
    "    urls = {\n",
    "        \"NY Times\": \"http://rss.nytimes.com/services/xml/rss/nyt/HomePage.xml\",\n",
    "        \"CNN\": \"http://rss.cnn.com/rss/cnn_latest.rss\"\n",
    "        }\n",
    "    output = ''\n",
    "    for v in urls:\n",
    "        output += (f\"\\n\\nTop Headlines from {v}:\\n\")\n",
    "        jtext = readfeed(urls[v])\n",
    "        h = html.parser\n",
    "        headline_count = 0\n",
    "        for i in range(len(jtext['rss']['channel']['item'])):\n",
    "            if (headline_count<3):\n",
    "                title = h.unescape(jtext['rss']['channel']['item'][i]['title'])\n",
    "                description = h.unescape(jtext['rss']['channel']['item'][i]['description'])\n",
    "                # print(title,\":\\n\",description)\n",
    "                output += '\\n'+title+\":\\n\"+description\n",
    "                # print(json.dumps(jtext['rss']['channel']['item'][i],indent=4))\n",
    "                headline_count +=1\n",
    "    return output\n",
    "\n",
    "if \"__name__\" == \"__main__\":\n",
    "    print(get_headlines())"
   ]
  }
 ],
 "metadata": {
  "kernelspec": {
   "display_name": "Python 3",
   "language": "python",
   "name": "python3"
  },
  "language_info": {
   "codemirror_mode": {
    "name": "ipython",
    "version": 3
   },
   "file_extension": ".py",
   "mimetype": "text/x-python",
   "name": "python",
   "nbconvert_exporter": "python",
   "pygments_lexer": "ipython3",
   "version": "3.10.6"
  },
  "orig_nbformat": 4
 },
 "nbformat": 4,
 "nbformat_minor": 2
}
